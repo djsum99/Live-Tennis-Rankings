{
 "cells": [
  {
   "cell_type": "code",
   "execution_count": 1,
   "metadata": {},
   "outputs": [],
   "source": [
    "import player_data\n",
    "import draw_creation\n",
    "from math import log2\n",
    "import pickle"
   ]
  },
  {
   "cell_type": "code",
   "execution_count": 3,
   "metadata": {},
   "outputs": [],
   "source": [
    "#player_data.save_players(150)"
   ]
  },
  {
   "cell_type": "code",
   "execution_count": 2,
   "metadata": {},
   "outputs": [
    {
     "ename": "Exception",
     "evalue": "SafariDriver was not found; are you running Safari 10 or later? You can download Safari at https://developer.apple.com/safari/download/.",
     "output_type": "error",
     "traceback": [
      "\u001b[1;31m---------------------------------------------------------------------------\u001b[0m",
      "\u001b[1;31mException\u001b[0m                                 Traceback (most recent call last)",
      "\u001b[1;32m<ipython-input-2-6e4c3615a71e>\u001b[0m in \u001b[0;36m<module>\u001b[1;34m\u001b[0m\n\u001b[1;32m----> 1\u001b[1;33m \u001b[0md_raw\u001b[0m \u001b[1;33m=\u001b[0m \u001b[0mdraw_creation\u001b[0m\u001b[1;33m.\u001b[0m\u001b[0mload_draw\u001b[0m\u001b[1;33m(\u001b[0m\u001b[1;34m'https://www.flashscore.com/tennis/wta-singles/toronto/draw/'\u001b[0m\u001b[1;33m,\u001b[0m\u001b[1;36m64\u001b[0m\u001b[1;33m)\u001b[0m\u001b[1;33m\u001b[0m\u001b[1;33m\u001b[0m\u001b[0m\n\u001b[0m\u001b[0;32m      2\u001b[0m \u001b[0mdraw_creation\u001b[0m\u001b[1;33m.\u001b[0m\u001b[0mshow_bracket\u001b[0m\u001b[1;33m(\u001b[0m\u001b[0md_raw\u001b[0m\u001b[1;33m.\u001b[0m\u001b[0mbracket\u001b[0m\u001b[1;33m)\u001b[0m\u001b[1;33m\u001b[0m\u001b[1;33m\u001b[0m\u001b[0m\n",
      "\u001b[1;32m~\\Projects\\tennis_project\\draw_creation.py\u001b[0m in \u001b[0;36mload_draw\u001b[1;34m(url, draw_size)\u001b[0m\n\u001b[0;32m    252\u001b[0m \u001b[1;33m\u001b[0m\u001b[0m\n\u001b[0;32m    253\u001b[0m \u001b[1;32mdef\u001b[0m \u001b[0mload_draw\u001b[0m\u001b[1;33m(\u001b[0m\u001b[0murl\u001b[0m\u001b[1;33m,\u001b[0m\u001b[0mdraw_size\u001b[0m\u001b[1;33m)\u001b[0m\u001b[1;33m:\u001b[0m\u001b[1;33m\u001b[0m\u001b[1;33m\u001b[0m\u001b[0m\n\u001b[1;32m--> 254\u001b[1;33m     \u001b[0mbrowser\u001b[0m \u001b[1;33m=\u001b[0m \u001b[0mwebdriver\u001b[0m\u001b[1;33m.\u001b[0m\u001b[0mSafari\u001b[0m\u001b[1;33m(\u001b[0m\u001b[1;33m)\u001b[0m \u001b[1;31m#replace with .Firefox(), or with the browser of your choice\u001b[0m\u001b[1;33m\u001b[0m\u001b[1;33m\u001b[0m\u001b[0m\n\u001b[0m\u001b[0;32m    255\u001b[0m     \u001b[0mbrowser\u001b[0m\u001b[1;33m.\u001b[0m\u001b[0mget\u001b[0m\u001b[1;33m(\u001b[0m\u001b[0murl\u001b[0m\u001b[1;33m)\u001b[0m\u001b[1;33m\u001b[0m\u001b[1;33m\u001b[0m\u001b[0m\n\u001b[0;32m    256\u001b[0m     \u001b[0minnerHTML\u001b[0m \u001b[1;33m=\u001b[0m \u001b[0mbrowser\u001b[0m\u001b[1;33m.\u001b[0m\u001b[0mexecute_script\u001b[0m\u001b[1;33m(\u001b[0m\u001b[1;34m\"return document.body.innerHTML\"\u001b[0m\u001b[1;33m)\u001b[0m\u001b[1;33m\u001b[0m\u001b[1;33m\u001b[0m\u001b[0m\n",
      "\u001b[1;32mc:\\users\\djsum\\projects\\tennis\\lib\\site-packages\\selenium\\webdriver\\safari\\webdriver.py\u001b[0m in \u001b[0;36m__init__\u001b[1;34m(self, port, executable_path, reuse_service, desired_capabilities, quiet, keep_alive, service_args)\u001b[0m\n\u001b[0;32m     53\u001b[0m \u001b[1;33m\u001b[0m\u001b[0m\n\u001b[0;32m     54\u001b[0m         \u001b[0mself\u001b[0m\u001b[1;33m.\u001b[0m\u001b[0m_reuse_service\u001b[0m \u001b[1;33m=\u001b[0m \u001b[0mreuse_service\u001b[0m\u001b[1;33m\u001b[0m\u001b[1;33m\u001b[0m\u001b[0m\n\u001b[1;32m---> 55\u001b[1;33m         \u001b[0mself\u001b[0m\u001b[1;33m.\u001b[0m\u001b[0mservice\u001b[0m \u001b[1;33m=\u001b[0m \u001b[0mService\u001b[0m\u001b[1;33m(\u001b[0m\u001b[0mexecutable_path\u001b[0m\u001b[1;33m,\u001b[0m \u001b[0mport\u001b[0m\u001b[1;33m=\u001b[0m\u001b[0mport\u001b[0m\u001b[1;33m,\u001b[0m \u001b[0mquiet\u001b[0m\u001b[1;33m=\u001b[0m\u001b[0mquiet\u001b[0m\u001b[1;33m,\u001b[0m \u001b[0mservice_args\u001b[0m\u001b[1;33m=\u001b[0m\u001b[0mservice_args\u001b[0m\u001b[1;33m)\u001b[0m\u001b[1;33m\u001b[0m\u001b[1;33m\u001b[0m\u001b[0m\n\u001b[0m\u001b[0;32m     56\u001b[0m         \u001b[1;32mif\u001b[0m \u001b[1;32mnot\u001b[0m \u001b[0mreuse_service\u001b[0m\u001b[1;33m:\u001b[0m\u001b[1;33m\u001b[0m\u001b[1;33m\u001b[0m\u001b[0m\n\u001b[0;32m     57\u001b[0m             \u001b[0mself\u001b[0m\u001b[1;33m.\u001b[0m\u001b[0mservice\u001b[0m\u001b[1;33m.\u001b[0m\u001b[0mstart\u001b[0m\u001b[1;33m(\u001b[0m\u001b[1;33m)\u001b[0m\u001b[1;33m\u001b[0m\u001b[1;33m\u001b[0m\u001b[0m\n",
      "\u001b[1;32mc:\\users\\djsum\\projects\\tennis\\lib\\site-packages\\selenium\\webdriver\\safari\\service.py\u001b[0m in \u001b[0;36m__init__\u001b[1;34m(self, executable_path, port, quiet, service_args)\u001b[0m\n\u001b[0;32m     41\u001b[0m             \u001b[1;32melse\u001b[0m\u001b[1;33m:\u001b[0m\u001b[1;33m\u001b[0m\u001b[1;33m\u001b[0m\u001b[0m\n\u001b[0;32m     42\u001b[0m                 \u001b[0mmessage\u001b[0m \u001b[1;33m=\u001b[0m \u001b[1;34m\"SafariDriver was not found; are you running Safari 10 or later? You can download Safari at https://developer.apple.com/safari/download/.\"\u001b[0m\u001b[1;33m\u001b[0m\u001b[1;33m\u001b[0m\u001b[0m\n\u001b[1;32m---> 43\u001b[1;33m             \u001b[1;32mraise\u001b[0m \u001b[0mException\u001b[0m\u001b[1;33m(\u001b[0m\u001b[0mmessage\u001b[0m\u001b[1;33m)\u001b[0m\u001b[1;33m\u001b[0m\u001b[1;33m\u001b[0m\u001b[0m\n\u001b[0m\u001b[0;32m     44\u001b[0m \u001b[1;33m\u001b[0m\u001b[0m\n\u001b[0;32m     45\u001b[0m         \u001b[1;32mif\u001b[0m \u001b[0mport\u001b[0m \u001b[1;33m==\u001b[0m \u001b[1;36m0\u001b[0m\u001b[1;33m:\u001b[0m\u001b[1;33m\u001b[0m\u001b[1;33m\u001b[0m\u001b[0m\n",
      "\u001b[1;31mException\u001b[0m: SafariDriver was not found; are you running Safari 10 or later? You can download Safari at https://developer.apple.com/safari/download/."
     ]
    }
   ],
   "source": [
    "d_raw = draw_creation.load_draw('https://www.flashscore.com/tennis/wta-singles/toronto/draw/',64)\n",
    "draw_creation.show_bracket(d_raw.bracket)"
   ]
  },
  {
   "cell_type": "code",
   "execution_count": 4,
   "metadata": {},
   "outputs": [],
   "source": [
    "'''...length = int(7-log2(draw_size))\n",
    "\n",
    "while True:\n",
    "    end = False\n",
    "    for element in d_raw.bracket:\n",
    "        if len(element.bracket_index)==length:\n",
    "            end = True\n",
    "            break\n",
    "    if end:\n",
    "        break\n",
    "    ...'''and None"
   ]
  },
  {
   "cell_type": "code",
   "execution_count": 5,
   "metadata": {},
   "outputs": [],
   "source": [
    "def live_rankings(d_raw):\n",
    "    \n",
    "    players = player_data.load_players()\n",
    "    playing_players = []\n",
    "    \n",
    "    for b in d_raw.bracket:\n",
    "        for p in players:\n",
    "            if b.player.name==p.name:\n",
    "                playing_players.append(b.player)\n",
    "            \n",
    "    for p in players:\n",
    "        in_bracket = False\n",
    "        for b in d_raw.bracket:\n",
    "            if b.player.name==p.name:\n",
    "                in_bracket = True\n",
    "                break\n",
    "        if not in_bracket:\n",
    "            playing_players.append(p)\n",
    "\n",
    "    sorted_players = sorted(playing_players, key=lambda player: player.points_total, reverse=True)\n",
    "\n",
    "    for p in sorted_players:\n",
    "        print(p.name+' '+str(p.current_points))"
   ]
  },
  {
   "cell_type": "code",
   "execution_count": null,
   "metadata": {},
   "outputs": [],
   "source": [
    "from tkinter import *\n",
    "\n",
    "def command2(d):\n",
    "    y = Button(a, text=d_raw.bracket[d].player.name, command=lambda j=d: command(j))\n",
    "    y.grid(row = int(d/2),column=2, padx = 10, pady=20)\n",
    "\n",
    "def command(d):\n",
    "    y = Button(a, text=d_raw.bracket[d].player.name, command=lambda j=d: command2(j))\n",
    "    y.grid(row = int(d/2),column=1, padx = 10, pady=20)\n",
    "    \n",
    "def change_color(d):\n",
    "    b[d].configure(highlightbackground='green')\n",
    "    if d%2==0:\n",
    "        b[d+1].configure(highlightbackground='red')\n",
    "    else:\n",
    "        b[d-1].configure(highlightbackground='red')\n",
    "\n",
    "a = Tk()\n",
    "b = []\n",
    "\n",
    "for c in range(len(d_raw.bracket)):\n",
    "    x = Button(a, text=d_raw.bracket[c].player.name, command=lambda j=c: change_color(j))\n",
    "    x.grid(row=2*c, column=0)\n",
    "    #x.pack()\n",
    "    b.append(x)\n",
    "x = Button(a, text=d_raw.bracket[3].player.name, command=lambda j=3: change_color(j))\n",
    "x.grid(row=1,column=1)#'''and None\n",
    "\n",
    "'''for i in range(int(log2(len(d_raw.bracket))-1)):\n",
    "    j = (2^i)-1\n",
    "    iteration = 2^(i+1)\n",
    "    while j<2*len(d_raw.bracket)-2:\n",
    "        x = Button(a, text='hey')#, command=lambda c=j: change_color(c))\n",
    "        x.grid(row=j, column=i)\n",
    "        #x.pack()\n",
    "        b.append(x)'''and None\n",
    "a.mainloop()"
   ]
  },
  {
   "cell_type": "code",
   "execution_count": null,
   "metadata": {},
   "outputs": [],
   "source": []
  },
  {
   "cell_type": "code",
   "execution_count": 1,
   "metadata": {},
   "outputs": [
    {
     "ename": "NameError",
     "evalue": "name 'd_raw' is not defined",
     "output_type": "error",
     "traceback": [
      "\u001b[0;31m---------------------------------------------------------------------------\u001b[0m",
      "\u001b[0;31mNameError\u001b[0m                                 Traceback (most recent call last)",
      "\u001b[0;32m<ipython-input-1-b3a0c5a62e59>\u001b[0m in \u001b[0;36m<module>\u001b[0;34m\u001b[0m\n\u001b[1;32m     23\u001b[0m \u001b[0;34m\u001b[0m\u001b[0m\n\u001b[1;32m     24\u001b[0m \u001b[0mbuttons\u001b[0m \u001b[0;34m=\u001b[0m \u001b[0;34m[\u001b[0m\u001b[0;34m]\u001b[0m\u001b[0;34m\u001b[0m\u001b[0;34m\u001b[0m\u001b[0m\n\u001b[0;32m---> 25\u001b[0;31m \u001b[0;32mfor\u001b[0m \u001b[0mi\u001b[0m \u001b[0;32min\u001b[0m \u001b[0mrange\u001b[0m\u001b[0;34m(\u001b[0m\u001b[0mlen\u001b[0m\u001b[0;34m(\u001b[0m\u001b[0md_raw\u001b[0m\u001b[0;34m.\u001b[0m\u001b[0mbracket\u001b[0m\u001b[0;34m)\u001b[0m\u001b[0;34m)\u001b[0m\u001b[0;34m:\u001b[0m\u001b[0;34m\u001b[0m\u001b[0;34m\u001b[0m\u001b[0m\n\u001b[0m\u001b[1;32m     26\u001b[0m     \u001b[0mbuttons\u001b[0m\u001b[0;34m.\u001b[0m\u001b[0mappend\u001b[0m\u001b[0;34m(\u001b[0m\u001b[0mButton\u001b[0m\u001b[0;34m(\u001b[0m\u001b[0mwindow\u001b[0m\u001b[0;34m,\u001b[0m \u001b[0mtext\u001b[0m\u001b[0;34m=\u001b[0m\u001b[0md_raw\u001b[0m\u001b[0;34m.\u001b[0m\u001b[0mbracket\u001b[0m\u001b[0;34m[\u001b[0m\u001b[0mi\u001b[0m\u001b[0;34m]\u001b[0m\u001b[0;34m.\u001b[0m\u001b[0mplayer\u001b[0m\u001b[0;34m.\u001b[0m\u001b[0mname\u001b[0m\u001b[0;34m,\u001b[0m \u001b[0mcommand\u001b[0m\u001b[0;34m=\u001b[0m\u001b[0mclicked\u001b[0m\u001b[0;34m(\u001b[0m\u001b[0;34m)\u001b[0m\u001b[0;34m)\u001b[0m\u001b[0;34m)\u001b[0m\u001b[0;34m\u001b[0m\u001b[0;34m\u001b[0m\u001b[0m\n\u001b[1;32m     27\u001b[0m     \u001b[0mbuttons\u001b[0m\u001b[0;34m[\u001b[0m\u001b[0mi\u001b[0m\u001b[0;34m]\u001b[0m\u001b[0;34m.\u001b[0m\u001b[0mgrid\u001b[0m\u001b[0;34m(\u001b[0m\u001b[0mcolumn\u001b[0m\u001b[0;34m=\u001b[0m\u001b[0;36m1\u001b[0m\u001b[0;34m,\u001b[0m \u001b[0mrow\u001b[0m\u001b[0;34m=\u001b[0m\u001b[0mi\u001b[0m\u001b[0;34m)\u001b[0m\u001b[0;34m\u001b[0m\u001b[0;34m\u001b[0m\u001b[0m\n",
      "\u001b[0;31mNameError\u001b[0m: name 'd_raw' is not defined"
     ]
    }
   ],
   "source": [
    "from tkinter import *\n",
    "from tkinter import scrolledtext\n",
    " \n",
    "window = Tk()\n",
    " \n",
    "window.title(\"Welcome to LikeGeeks app\")\n",
    " \n",
    "window.geometry('350x200')\n",
    "\n",
    "#lbl = Label(window, text=\"Hello\")\n",
    " \n",
    "#lbl.grid(column=0, row=0)\n",
    " \n",
    "#txt = Entry(window,width=10)\n",
    " \n",
    "#txt.grid(column=1, row=0)\n",
    "\n",
    "#txt = scrolledtext.ScrolledText(window,width=40,height=10)\n",
    "\n",
    "\n",
    "def clicked(self):\n",
    "    print(d_raw.bracket[i].player.name)\n",
    "\n",
    "buttons = []\n",
    "for i in range(len(d_raw.bracket)):\n",
    "    buttons.append(Button(window, text=d_raw.bracket[i].player.name, command=clicked()))\n",
    "    buttons[i].grid(column=1, row=i)\n",
    "\n",
    "window.mainloop()\n"
   ]
  },
  {
   "cell_type": "code",
   "execution_count": 13,
   "metadata": {},
   "outputs": [],
   "source": [
    "from tkinter import *\n",
    " \n",
    "from tkinter import scrolledtext\n",
    " \n",
    "window = Tk()\n",
    " \n",
    "window.title(\"Welcome to LikeGeeks app\")\n",
    " \n",
    "window.geometry('350x200')\n",
    " \n",
    "txt = scrolledtext.ScrolledText(window,width=40,height=10)\n",
    " \n",
    "txt.grid(column=0,row=0)\n",
    " \n",
    "window.mainloop()"
   ]
  },
  {
   "cell_type": "code",
   "execution_count": 23,
   "metadata": {},
   "outputs": [],
   "source": [
    "def callback(self,i): # This is the callback factory. Calling it returns a function.\n",
    "    def _callback():\n",
    "        print(i) # i tells you which button has been pressed.\n",
    "    return _callback\n",
    "\n",
    "def __init__(self):\n",
    "    names=('One','Two','Three','Four','Five','Six','Seven','Eight','Nine','Ten')\n",
    "    self.button=[]\n",
    "    for i,name in enumerate(names):\n",
    "        self.button.append(Button(frame, text=name, command=self.callback(i+1)))\n",
    "        row,col=divmod(i,5)\n",
    "        self.button[i].grid(sticky=W+E+N+S, row=row, column=col, padx=1, pady=1)"
   ]
  },
  {
   "cell_type": "code",
   "execution_count": 61,
   "metadata": {},
   "outputs": [],
   "source": [
    "from tkinter import *\n",
    "\n",
    "root = Tk()\n",
    "scrollbar = Scrollbar(root)\n",
    "scrollbar.pack(side = RIGHT, fill=Y)\n",
    "\n",
    "mylist = Listbox(root, yscrollcommand = scrollbar.set)\n",
    "for line in range(100):\n",
    "    mylist.insert(END, \"This is line number \" + str(line))\n",
    "\n",
    "mylist.pack(side = LEFT, fill = BOTH)\n",
    "scrollbar.config(command = mylist.yview)\n",
    "\n",
    "root.mainloop()"
   ]
  },
  {
   "cell_type": "code",
   "execution_count": null,
   "metadata": {},
   "outputs": [],
   "source": []
  }
 ],
 "metadata": {
  "kernelspec": {
   "display_name": "Python 3",
   "language": "python",
   "name": "python3"
  },
  "language_info": {
   "codemirror_mode": {
    "name": "ipython",
    "version": 3
   },
   "file_extension": ".py",
   "mimetype": "text/x-python",
   "name": "python",
   "nbconvert_exporter": "python",
   "pygments_lexer": "ipython3",
   "version": "3.7.4"
  }
 },
 "nbformat": 4,
 "nbformat_minor": 2
}
